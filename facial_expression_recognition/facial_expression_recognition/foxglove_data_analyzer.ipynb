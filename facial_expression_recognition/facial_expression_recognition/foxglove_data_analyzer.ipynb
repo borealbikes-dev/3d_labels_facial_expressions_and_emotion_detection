{
 "cells": [
  {
   "attachments": {},
   "cell_type": "markdown",
   "metadata": {},
   "source": [
    "We will be storing the data in Foxglove Data Platform. To do this, we need to create a Foxglove account and create a project. \n",
    "Generate a Device ID and use it to fecth the data from the device."
   ]
  },
  {
   "cell_type": "code",
   "execution_count": 1,
   "metadata": {},
   "outputs": [
    {
     "name": "stdout",
     "output_type": "stream",
     "text": [
      "Requirement already satisfied: mcap-protobuf-support==0.0.10 in c:\\users\\user\\appdata\\local\\programs\\python\\python310\\lib\\site-packages (0.0.10)\n",
      "Requirement already satisfied: mcap-ros2-support==0.1.0 in c:\\users\\user\\appdata\\local\\programs\\python\\python310\\lib\\site-packages (0.1.0)\n",
      "Requirement already satisfied: mcap-ros1-support==0.4.0 in c:\\users\\user\\appdata\\local\\programs\\python\\python310\\lib\\site-packages (0.4.0)\n",
      "Requirement already satisfied: foxglove-data-platform==0.2.3 in c:\\users\\user\\appdata\\local\\programs\\python\\python310\\lib\\site-packages (0.2.3)\n",
      "Requirement already satisfied: protobuf in c:\\users\\user\\appdata\\local\\programs\\python\\python310\\lib\\site-packages (from mcap-protobuf-support==0.0.10) (4.23.1)\n",
      "Requirement already satisfied: mcap>=0.0.14 in c:\\users\\user\\appdata\\local\\programs\\python\\python310\\lib\\site-packages (from mcap-protobuf-support==0.0.10) (1.0.2)\n",
      "Requirement already satisfied: arrow in c:\\users\\user\\appdata\\local\\programs\\python\\python310\\lib\\site-packages (from foxglove-data-platform==0.2.3) (1.2.3)\n",
      "Requirement already satisfied: typing-extensions in c:\\users\\user\\appdata\\local\\programs\\python\\python310\\lib\\site-packages (from foxglove-data-platform==0.2.3) (4.5.0)\n",
      "Requirement already satisfied: requests in c:\\users\\user\\appdata\\local\\programs\\python\\python310\\lib\\site-packages (from foxglove-data-platform==0.2.3) (2.30.0)\n",
      "Requirement already satisfied: lz4 in c:\\users\\user\\appdata\\local\\programs\\python\\python310\\lib\\site-packages (from mcap>=0.0.14->mcap-protobuf-support==0.0.10) (4.3.2)\n",
      "Requirement already satisfied: zstandard in c:\\users\\user\\appdata\\local\\programs\\python\\python310\\lib\\site-packages (from mcap>=0.0.14->mcap-protobuf-support==0.0.10) (0.21.0)\n",
      "Requirement already satisfied: python-dateutil>=2.7.0 in c:\\users\\user\\appdata\\roaming\\python\\python310\\site-packages (from arrow->foxglove-data-platform==0.2.3) (2.8.2)\n",
      "Requirement already satisfied: certifi>=2017.4.17 in c:\\users\\user\\appdata\\local\\programs\\python\\python310\\lib\\site-packages (from requests->foxglove-data-platform==0.2.3) (2023.5.7)\n",
      "Requirement already satisfied: urllib3<3,>=1.21.1 in c:\\users\\user\\appdata\\local\\programs\\python\\python310\\lib\\site-packages (from requests->foxglove-data-platform==0.2.3) (2.0.2)\n",
      "Requirement already satisfied: idna<4,>=2.5 in c:\\users\\user\\appdata\\local\\programs\\python\\python310\\lib\\site-packages (from requests->foxglove-data-platform==0.2.3) (3.4)\n",
      "Requirement already satisfied: charset-normalizer<4,>=2 in c:\\users\\user\\appdata\\local\\programs\\python\\python310\\lib\\site-packages (from requests->foxglove-data-platform==0.2.3) (3.1.0)\n",
      "Requirement already satisfied: six>=1.5 in c:\\users\\user\\appdata\\roaming\\python\\python310\\site-packages (from python-dateutil>=2.7.0->arrow->foxglove-data-platform==0.2.3) (1.16.0)\n",
      "Note: you may need to restart the kernel to use updated packages.\n"
     ]
    },
    {
     "name": "stderr",
     "output_type": "stream",
     "text": [
      "\n",
      "[notice] A new release of pip is available: 23.0.1 -> 23.1.2\n",
      "[notice] To update, run: python.exe -m pip install --upgrade pip\n"
     ]
    }
   ],
   "source": [
    "# Install the neccesary packages\n",
    "%pip install mcap-protobuf-support==0.0.10 mcap-ros2-support==0.1.0 mcap-ros1-support==0.4.0 foxglove-data-platform==0.2.3 "
   ]
  },
  {
   "attachments": {},
   "cell_type": "markdown",
   "metadata": {},
   "source": [
    "Create your Foxglove account here: https://app.foxglove.dev/ and generate a Device ID here: https://app.foxglove.dev/devices\n",
    "Create your own API key here: https://app.foxglove.dev/settings"
   ]
  },
  {
   "cell_type": "code",
   "execution_count": 2,
   "metadata": {},
   "outputs": [],
   "source": [
    "from foxglove_data_platform.client import Client\n",
    "\n",
    "# Read-only public key for demonstration purposes\n",
    "client = Client(token=\"fox_sk_GHYaDcMX4xXT80f4NNFtg8q8mMGxDMBD\")"
   ]
  },
  {
   "cell_type": "code",
   "execution_count": 3,
   "metadata": {},
   "outputs": [
    {
     "name": "stdout",
     "output_type": "stream",
     "text": [
      "Requirement already satisfied: pandas in c:\\users\\user\\appdata\\local\\programs\\python\\python310\\lib\\site-packages (2.0.1)\n",
      "Requirement already satisfied: pytz>=2020.1 in c:\\users\\user\\appdata\\local\\programs\\python\\python310\\lib\\site-packages (from pandas) (2023.3)\n",
      "Requirement already satisfied: python-dateutil>=2.8.2 in c:\\users\\user\\appdata\\roaming\\python\\python310\\site-packages (from pandas) (2.8.2)\n",
      "Requirement already satisfied: tzdata>=2022.1 in c:\\users\\user\\appdata\\local\\programs\\python\\python310\\lib\\site-packages (from pandas) (2023.3)\n",
      "Requirement already satisfied: numpy>=1.21.0 in c:\\users\\user\\appdata\\local\\programs\\python\\python310\\lib\\site-packages (from pandas) (1.24.3)\n",
      "Requirement already satisfied: six>=1.5 in c:\\users\\user\\appdata\\roaming\\python\\python310\\site-packages (from python-dateutil>=2.8.2->pandas) (1.16.0)\n",
      "Note: you may need to restart the kernel to use updated packages.\n"
     ]
    },
    {
     "name": "stderr",
     "output_type": "stream",
     "text": [
      "\n",
      "[notice] A new release of pip is available: 23.0.1 -> 23.1.2\n",
      "[notice] To update, run: python.exe -m pip install --upgrade pip\n"
     ]
    }
   ],
   "source": [
    "%pip install pandas"
   ]
  },
  {
   "cell_type": "code",
   "execution_count": 9,
   "metadata": {},
   "outputs": [
    {
     "data": {
      "text/html": [
       "<div>\n",
       "<style scoped>\n",
       "    .dataframe tbody tr th:only-of-type {\n",
       "        vertical-align: middle;\n",
       "    }\n",
       "\n",
       "    .dataframe tbody tr th {\n",
       "        vertical-align: top;\n",
       "    }\n",
       "\n",
       "    .dataframe thead th {\n",
       "        text-align: right;\n",
       "    }\n",
       "</style>\n",
       "<table border=\"1\" class=\"dataframe\">\n",
       "  <thead>\n",
       "    <tr style=\"text-align: right;\">\n",
       "      <th></th>\n",
       "      <th>device_id</th>\n",
       "      <th>start</th>\n",
       "      <th>end</th>\n",
       "    </tr>\n",
       "  </thead>\n",
       "  <tbody>\n",
       "    <tr>\n",
       "      <th>0</th>\n",
       "      <td>dev_LWdg0mQBdWdFhv1C</td>\n",
       "      <td>2023-05-22 06:18:59.946194+00:00</td>\n",
       "      <td>2023-05-22 06:20:26.670349+00:00</td>\n",
       "    </tr>\n",
       "  </tbody>\n",
       "</table>\n",
       "</div>"
      ],
      "text/plain": [
       "              device_id                            start   \n",
       "0  dev_LWdg0mQBdWdFhv1C 2023-05-22 06:18:59.946194+00:00  \\\n",
       "\n",
       "                               end  \n",
       "0 2023-05-22 06:20:26.670349+00:00  "
      ]
     },
     "execution_count": 9,
     "metadata": {},
     "output_type": "execute_result"
    }
   ],
   "source": [
    "from datetime import datetime\n",
    "import pandas as pd\n",
    "\n",
    "all_devices_coverage = client.get_coverage(start=datetime(2023, 5, 20), end=datetime(2023,5,25))\n",
    "all_devices_coverage = sorted(all_devices_coverage, key=lambda c: c['start'])\n",
    "pd.DataFrame(all_devices_coverage).head()"
   ]
  },
  {
   "cell_type": "code",
   "execution_count": 10,
   "metadata": {},
   "outputs": [
    {
     "name": "stdout",
     "output_type": "stream",
     "text": [
      "[{'device_id': 'dev_LWdg0mQBdWdFhv1C', 'start': datetime.datetime(2023, 5, 22, 6, 18, 59, 946194, tzinfo=tzutc()), 'end': datetime.datetime(2023, 5, 22, 6, 20, 26, 670349, tzinfo=tzutc())}]\n"
     ]
    }
   ],
   "source": [
    "device_id = \"dev_LWdg0mQBdWdFhv1C\"\n",
    "coverage = [r for r in all_devices_coverage if r[\"device_id\"] == device_id]\n",
    "print(coverage)"
   ]
  },
  {
   "cell_type": "code",
   "execution_count": 13,
   "metadata": {},
   "outputs": [
    {
     "name": "stdout",
     "output_type": "stream",
     "text": [
      "Collecting matplotlib\n",
      "  Downloading matplotlib-3.7.1-cp310-cp310-win_amd64.whl (7.6 MB)\n",
      "     ---------------------------------------- 0.0/7.6 MB ? eta -:--:--\n",
      "     ---------------------------------------- 0.0/7.6 MB 660.6 kB/s eta 0:00:12\n",
      "      --------------------------------------- 0.1/7.6 MB 1.4 MB/s eta 0:00:06\n",
      "      --------------------------------------- 0.2/7.6 MB 1.4 MB/s eta 0:00:06\n",
      "     - -------------------------------------- 0.3/7.6 MB 1.8 MB/s eta 0:00:05\n",
      "     -- ------------------------------------- 0.4/7.6 MB 2.3 MB/s eta 0:00:04\n",
      "     -- ------------------------------------- 0.5/7.6 MB 2.6 MB/s eta 0:00:03\n",
      "     -- ------------------------------------- 0.6/7.6 MB 2.2 MB/s eta 0:00:04\n",
      "     ---- ----------------------------------- 0.9/7.6 MB 2.9 MB/s eta 0:00:03\n",
      "     ----- ---------------------------------- 1.1/7.6 MB 3.4 MB/s eta 0:00:02\n",
      "     ------- -------------------------------- 1.4/7.6 MB 3.8 MB/s eta 0:00:02\n",
      "     -------- ------------------------------- 1.5/7.6 MB 4.0 MB/s eta 0:00:02\n",
      "     -------- ------------------------------- 1.7/7.6 MB 4.0 MB/s eta 0:00:02\n",
      "     ---------- ----------------------------- 2.0/7.6 MB 4.3 MB/s eta 0:00:02\n",
      "     ----------- ---------------------------- 2.1/7.6 MB 4.2 MB/s eta 0:00:02\n",
      "     ------------ --------------------------- 2.5/7.6 MB 4.6 MB/s eta 0:00:02\n",
      "     -------------- ------------------------- 2.8/7.6 MB 4.8 MB/s eta 0:00:02\n",
      "     --------------- ------------------------ 3.0/7.6 MB 4.9 MB/s eta 0:00:01\n",
      "     ----------------- ---------------------- 3.3/7.6 MB 5.2 MB/s eta 0:00:01\n",
      "     ------------------ --------------------- 3.6/7.6 MB 5.2 MB/s eta 0:00:01\n",
      "     -------------------- ------------------- 4.0/7.6 MB 5.5 MB/s eta 0:00:01\n",
      "     ---------------------- ----------------- 4.3/7.6 MB 5.6 MB/s eta 0:00:01\n",
      "     ----------------------- ---------------- 4.5/7.6 MB 5.6 MB/s eta 0:00:01\n",
      "     -------------------------- ------------- 5.0/7.6 MB 6.0 MB/s eta 0:00:01\n",
      "     -------------------------- ------------- 5.1/7.6 MB 5.9 MB/s eta 0:00:01\n",
      "     ---------------------------- ----------- 5.4/7.6 MB 6.1 MB/s eta 0:00:01\n",
      "     ------------------------------ --------- 5.7/7.6 MB 6.2 MB/s eta 0:00:01\n",
      "     ------------------------------- -------- 6.0/7.6 MB 6.2 MB/s eta 0:00:01\n",
      "     -------------------------------- ------- 6.2/7.6 MB 6.1 MB/s eta 0:00:01\n",
      "     ---------------------------------- ----- 6.6/7.6 MB 6.3 MB/s eta 0:00:01\n",
      "     ------------------------------------ --- 6.9/7.6 MB 6.4 MB/s eta 0:00:01\n",
      "     ------------------------------------- -- 7.1/7.6 MB 6.3 MB/s eta 0:00:01\n",
      "     -------------------------------------- - 7.4/7.6 MB 6.4 MB/s eta 0:00:01\n",
      "     ---------------------------------------  7.5/7.6 MB 6.3 MB/s eta 0:00:01\n",
      "     ---------------------------------------- 7.6/7.6 MB 6.2 MB/s eta 0:00:00\n",
      "Collecting kiwisolver>=1.0.1\n",
      "  Downloading kiwisolver-1.4.4-cp310-cp310-win_amd64.whl (55 kB)\n",
      "     ---------------------------------------- 0.0/55.3 kB ? eta -:--:--\n",
      "     ---------------------------------------- 55.3/55.3 kB 3.0 MB/s eta 0:00:00\n",
      "Collecting cycler>=0.10\n",
      "  Downloading cycler-0.11.0-py3-none-any.whl (6.4 kB)\n",
      "Collecting pyparsing>=2.3.1\n",
      "  Downloading pyparsing-3.0.9-py3-none-any.whl (98 kB)\n",
      "     ---------------------------------------- 0.0/98.3 kB ? eta -:--:--\n",
      "     ---------------------------------------- 98.3/98.3 kB ? eta 0:00:00\n",
      "Collecting pillow>=6.2.0\n",
      "  Downloading Pillow-9.5.0-cp310-cp310-win_amd64.whl (2.5 MB)\n",
      "     ---------------------------------------- 0.0/2.5 MB ? eta -:--:--\n",
      "     -- ------------------------------------- 0.2/2.5 MB 3.1 MB/s eta 0:00:01\n",
      "     ------ --------------------------------- 0.4/2.5 MB 6.2 MB/s eta 0:00:01\n",
      "     ----------- ---------------------------- 0.7/2.5 MB 6.2 MB/s eta 0:00:01\n",
      "     -------------- ------------------------- 0.9/2.5 MB 7.0 MB/s eta 0:00:01\n",
      "     -------------- ------------------------- 0.9/2.5 MB 7.0 MB/s eta 0:00:01\n",
      "     ----------------- ---------------------- 1.1/2.5 MB 4.9 MB/s eta 0:00:01\n",
      "     ------------------------ --------------- 1.6/2.5 MB 6.2 MB/s eta 0:00:01\n",
      "     -------------------------- ------------- 1.7/2.5 MB 5.6 MB/s eta 0:00:01\n",
      "     ------------------------------ --------- 1.9/2.5 MB 5.9 MB/s eta 0:00:01\n",
      "     ----------------------------------- ---- 2.2/2.5 MB 6.1 MB/s eta 0:00:01\n",
      "     ---------------------------------------  2.5/2.5 MB 6.4 MB/s eta 0:00:01\n",
      "     ---------------------------------------- 2.5/2.5 MB 5.9 MB/s eta 0:00:00\n",
      "Requirement already satisfied: python-dateutil>=2.7 in c:\\users\\user\\appdata\\roaming\\python\\python310\\site-packages (from matplotlib) (2.8.2)\n",
      "Collecting fonttools>=4.22.0\n",
      "  Downloading fonttools-4.39.4-py3-none-any.whl (1.0 MB)\n",
      "     ---------------------------------------- 0.0/1.0 MB ? eta -:--:--\n",
      "     ------- -------------------------------- 0.2/1.0 MB 12.3 MB/s eta 0:00:01\n",
      "     --------------------- ------------------ 0.5/1.0 MB 11.1 MB/s eta 0:00:01\n",
      "     -------------------------------- ------- 0.8/1.0 MB 10.4 MB/s eta 0:00:01\n",
      "     ---------------------------------------- 1.0/1.0 MB 9.2 MB/s eta 0:00:00\n",
      "Requirement already satisfied: numpy>=1.20 in c:\\users\\user\\appdata\\local\\programs\\python\\python310\\lib\\site-packages (from matplotlib) (1.24.3)\n",
      "Requirement already satisfied: packaging>=20.0 in c:\\users\\user\\appdata\\roaming\\python\\python310\\site-packages (from matplotlib) (23.1)\n",
      "Collecting contourpy>=1.0.1\n",
      "  Downloading contourpy-1.0.7-cp310-cp310-win_amd64.whl (162 kB)\n",
      "     ---------------------------------------- 0.0/163.0 kB ? eta -:--:--\n",
      "     -------------------------------------- 163.0/163.0 kB 9.5 MB/s eta 0:00:00\n",
      "Requirement already satisfied: six>=1.5 in c:\\users\\user\\appdata\\roaming\\python\\python310\\site-packages (from python-dateutil>=2.7->matplotlib) (1.16.0)\n",
      "Installing collected packages: pyparsing, pillow, kiwisolver, fonttools, cycler, contourpy, matplotlib\n",
      "Successfully installed contourpy-1.0.7 cycler-0.11.0 fonttools-4.39.4 kiwisolver-1.4.4 matplotlib-3.7.1 pillow-9.5.0 pyparsing-3.0.9\n",
      "Note: you may need to restart the kernel to use updated packages.\n"
     ]
    },
    {
     "name": "stderr",
     "output_type": "stream",
     "text": [
      "  WARNING: The scripts fonttools.exe, pyftmerge.exe, pyftsubset.exe and ttx.exe are installed in 'c:\\Users\\user\\AppData\\Local\\Programs\\Python\\Python310\\Scripts' which is not on PATH.\n",
      "  Consider adding this directory to PATH or, if you prefer to suppress this warning, use --no-warn-script-location.\n",
      "\n",
      "[notice] A new release of pip is available: 23.0.1 -> 23.1.2\n",
      "[notice] To update, run: python.exe -m pip install --upgrade pip\n"
     ]
    }
   ],
   "source": [
    "%pip install matplotlib"
   ]
  },
  {
   "cell_type": "code",
   "execution_count": 16,
   "metadata": {},
   "outputs": [
    {
     "data": {
      "image/png": "[encoded data removed]",
      "text/plain": [
       "<Figure size 640x480 with 1 Axes>"
      ]
     },
     "metadata": {},
     "output_type": "display_data"
    }
   ],
   "source": [
    "# topics = client.get_topics(device_id=device_id, start=coverage[1][\"start\"], end=coverage[1][\"end\"])\n",
    "# pd.DataFrame(topics)\n",
    "\n",
    "# Create a dictionary of emotion labels with number of occurences\n",
    "emotion_dict = {\n",
    "    \"neutral\": 2,\n",
    "    \"happy\": 10,\n",
    "    \"sad\": 4,\n",
    "    \"surprise\": 6,\n",
    "    \"anger\": 2,\n",
    "    \"disgust\": 1,\n",
    "    \"fear\": 15,\n",
    "    \"neutral\": 8,\n",
    "}\n",
    "\n",
    "# Create a dataframe from the dictionary\n",
    "df = pd.DataFrame(emotion_dict.items(), columns=[\"emotion\", \"count\"])\n",
    "\n",
    "# save the plot as a image file\n",
    "df.plot.bar(x=\"emotion\", y=\"count\", rot=0, title=\"Emotion Counts\").get_figure().savefig(\"emotion_counts.png\")\n",
    "\n"
   ]
  }
 ],
 "metadata": {
  "kernelspec": {
   "display_name": "Python 3",
   "language": "python",
   "name": "python3"
  },
  "language_info": {
   "codemirror_mode": {
    "name": "ipython",
    "version": 3
   },
   "file_extension": ".py",
   "mimetype": "text/x-python",
   "name": "python",
   "nbconvert_exporter": "python",
   "pygments_lexer": "ipython3",
   "version": "3.10.11"
  },
  "orig_nbformat": 4
 },
 "nbformat": 4,
 "nbformat_minor": 2
}
